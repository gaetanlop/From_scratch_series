{
 "cells": [
  {
   "cell_type": "markdown",
   "metadata": {},
   "source": [
    "# Imports"
   ]
  },
  {
   "cell_type": "code",
   "execution_count": 1,
   "metadata": {},
   "outputs": [],
   "source": [
    "import pandas as pd\n",
    "import numpy as np\n",
    "from imblearn.under_sampling import RandomUnderSampler\n",
    "from xgboost import XGBClassifier\n",
    "import xgboost as xgb\n",
    "from xgboost import plot_importance\n",
    "import matplotlib.pyplot as plt\n",
    "from random import randint\n",
    "from sklearn.metrics import f1_score,recall_score, confusion_matrix"
   ]
  },
  {
   "cell_type": "code",
   "execution_count": 3,
   "metadata": {},
   "outputs": [],
   "source": [
    "features=['V1', 'V2', 'V3', 'V4', 'V5', 'V6', 'V7', 'V8', 'V9', 'V10',\n",
    "       'V11', 'V12', 'V13', 'V14', 'V15', 'V16', 'V17', 'V18', 'V19', 'V20',\n",
    "       'V21', 'V22', 'V23', 'V24', 'V25', 'V26', 'V27', 'V28', 'Amount']\n",
    "\n",
    "df=pd.read_csv('../creditcard.csv')\n",
    "df=df.rename(columns={'Class':'target'})"
   ]
  },
  {
   "cell_type": "code",
   "execution_count": 4,
   "metadata": {},
   "outputs": [],
   "source": [
    "params={'n_estimators':200}"
   ]
  },
  {
   "cell_type": "markdown",
   "metadata": {},
   "source": [
    "# Create model"
   ]
  },
  {
   "cell_type": "code",
   "execution_count": 5,
   "metadata": {},
   "outputs": [],
   "source": [
    "def create_xgb(params: dict,X_train: pd.DataFrame, y_train: pd.DataFrame, featureImportance: bool= False):\n",
    "    \n",
    "    model=XGBClassifier(**params)\n",
    "    \n",
    "    train=pd.concat([X_train,y_train],axis=1)\n",
    "    \n",
    "    for \n",
    "    \n",
    "    model.fit(X_train,y_train,verbose=0)\n",
    "    \n",
    "    if featureImportance:\n",
    "        plot_importance(model, max_num_features=6)\n",
    "        plt.show()\n",
    "        \n",
    "    return model"
   ]
  },
  {
   "cell_type": "markdown",
   "metadata": {},
   "source": [
    "# Balance Cascade algorithm"
   ]
  },
  {
   "cell_type": "code",
   "execution_count": 6,
   "metadata": {},
   "outputs": [],
   "source": [
    "def balancecascade(train: pd.DataFrame,features: list, n_estimators: int):\n",
    "    \n",
    "    train_maj= train[train.target==0]\n",
    "    train_min= train[train.target==1]\n",
    "    \n",
    "    model_list=[]\n",
    "    \n",
    "    n_maj= len(train_maj)\n",
    "    n_min= len(train_min)\n",
    "    \n",
    "    ratio=n_min/n_maj\n",
    "    \n",
    "    keep_rate=np.power(ratio, 1/(n_estimators-1))\n",
    "    \n",
    "    \n",
    "    while len(train_maj)>len(train_min):\n",
    "        \n",
    "        train=pd.concat([train_maj,train_min],axis=0)\n",
    "        \n",
    "        X_train,y_train=train[features],train.target\n",
    "        \n",
    "        undersampler=RandomUnderSampler(sampling_strategy=1, random_state=randint(0,10000))\n",
    "        X_train_rus,y_train_rus=undersampler.fit_resample(X_train,y_train)\n",
    "        \n",
    "        model_list.append(create_xgb(params, X_train_rus, y_train_rus))\n",
    "                          \n",
    "        y_probs=0\n",
    "                          \n",
    "        for model in model_list:\n",
    "            \n",
    "            y_probs+=model.predict_proba(train_maj[features])[:,1]\n",
    "        \n",
    "        y_probs=y_probs/len(model_list)\n",
    "                          \n",
    "        train_maj['proba']=y_probs\n",
    "                          \n",
    "        train_maj=train_maj.sort_values('proba',ascending=False)[:int(keep_rate*len(train_maj)+1)]\n",
    "        \n",
    "        \n",
    "    return model_list\n",
    "\n"
   ]
  },
  {
   "cell_type": "markdown",
   "metadata": {},
   "source": [
    "# Cross validation strategy"
   ]
  },
  {
   "cell_type": "code",
   "execution_count": 7,
   "metadata": {},
   "outputs": [],
   "source": [
    "def cross_val(df: pd.DataFrame,features: list):\n",
    "    \n",
    "    train=df[:200000]\n",
    "    test=df[200000:]\n",
    "    \n",
    "    models=balancecascade(train= train, features= features, n_estimators=10)\n",
    "    \n",
    "    X_test,y_test= test[features],test.target\n",
    "        \n",
    "    y_preds_proba=0\n",
    "    \n",
    "    for model in models:\n",
    "        \n",
    "        y_preds_proba+=model.predict_proba(X_test)[:,1]\n",
    "        \n",
    "    y_preds_proba=y_preds_proba/len(models)\n",
    "    y_preds=(y_preds_proba>0.5).astype(int)\n",
    "    \n",
    "    print(recall_score(y_test,y_preds))\n",
    "    print('\\n')\n",
    "    print(confusion_matrix(y_test,y_preds))\n",
    "    \n",
    "    \n",
    "    return models\n",
    "        "
   ]
  },
  {
   "cell_type": "code",
   "execution_count": 8,
   "metadata": {},
   "outputs": [
    {
     "name": "stderr",
     "output_type": "stream",
     "text": [
      "C:\\Users\\gaeta\\anaconda3\\lib\\site-packages\\ipykernel_launcher.py:35: SettingWithCopyWarning: \n",
      "A value is trying to be set on a copy of a slice from a DataFrame.\n",
      "Try using .loc[row_indexer,col_indexer] = value instead\n",
      "\n",
      "See the caveats in the documentation: https://pandas.pydata.org/pandas-docs/stable/user_guide/indexing.html#returning-a-view-versus-a-copy\n"
     ]
    },
    {
     "name": "stdout",
     "output_type": "stream",
     "text": [
      "0.8130841121495327\n",
      "\n",
      "\n",
      "[[84644    56]\n",
      " [   20    87]]\n"
     ]
    }
   ],
   "source": [
    "models=cross_val(df,features)"
   ]
  },
  {
   "cell_type": "code",
   "execution_count": null,
   "metadata": {},
   "outputs": [],
   "source": []
  }
 ],
 "metadata": {
  "kernelspec": {
   "display_name": "Python 3",
   "language": "python",
   "name": "python3"
  },
  "language_info": {
   "codemirror_mode": {
    "name": "ipython",
    "version": 3
   },
   "file_extension": ".py",
   "mimetype": "text/x-python",
   "name": "python",
   "nbconvert_exporter": "python",
   "pygments_lexer": "ipython3",
   "version": "3.7.6"
  }
 },
 "nbformat": 4,
 "nbformat_minor": 4
}
