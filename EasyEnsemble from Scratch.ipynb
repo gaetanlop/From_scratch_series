{
 "cells": [
  {
   "cell_type": "markdown",
   "metadata": {},
   "source": [
    "# Imports"
   ]
  },
  {
   "cell_type": "code",
   "execution_count": 9,
   "metadata": {},
   "outputs": [],
   "source": [
    "import pandas as pd\n",
    "import numpy as np\n",
    "import matplotlib.pyplot as plt\n",
    "import seaborn as sns\n",
    "import optuna \n",
    "import os\n",
    "from xgboost import XGBClassifier\n",
    "from sklearn.metrics import recall_score,f1_score,confusion_matrix\n",
    "\n",
    "from imblearn.under_sampling import RandomUnderSampler\n",
    "from sklearn.model_selection import KFold\n",
    "from random import randint"
   ]
  },
  {
   "cell_type": "markdown",
   "metadata": {},
   "source": [
    "# Create the dataset"
   ]
  },
  {
   "cell_type": "code",
   "execution_count": 10,
   "metadata": {},
   "outputs": [],
   "source": [
    "features=['V1', 'V2', 'V3', 'V4', 'V5', 'V6', 'V7', 'V8', 'V9', 'V10',\n",
    "       'V11', 'V12', 'V13', 'V14', 'V15', 'V16', 'V17', 'V18', 'V19', 'V20',\n",
    "       'V21', 'V22', 'V23', 'V24', 'V25', 'V26', 'V27', 'V28', 'Amount']\n",
    "\n",
    "df=pd.read_csv('../creditcard.csv')\n",
    "df=df.rename(columns={'Class':'target'})\n",
    "\n",
    "optuna.logging.set_verbosity(optuna.logging.WARNING)"
   ]
  },
  {
   "cell_type": "markdown",
   "metadata": {},
   "source": [
    "# Optuna tuning"
   ]
  },
  {
   "cell_type": "code",
   "execution_count": 11,
   "metadata": {},
   "outputs": [],
   "source": [
    "def objective(trial: pd.DataFrame, X_train: pd.DataFrame, y_train: pd.DataFrame):\n",
    "    \n",
    "    params={'lambda': trial.suggest_loguniform('lambda', 1e-2, 5.0),\n",
    "        'alpha': trial.suggest_loguniform('alpha', 1e-2, 5.0),\n",
    "        'colsample_bytree': trial.suggest_categorical('colsample_bytree', [0.6,0.7,0.8,0.9, 1.0]),\n",
    "        'subsample': trial.suggest_categorical('subsample', [0.6,0.7,0.8,1.0]),\n",
    "        'learning_rate': trial.suggest_categorical('learning_rate', [0.01,0.012,0.014,0.016,0.018, 0.02,0.05]),\n",
    "        'n_estimators': trial.suggest_int('n_estimators',50,500),\n",
    "        'max_depth': trial.suggest_categorical('max_depth', [2,3,5,7,9,11]),\n",
    "        'random_state': trial.suggest_categorical('random_state', [24, 48,2021]),\n",
    "        'min_child_weight': trial.suggest_int('min_child_weight', 1, 300),\n",
    "        }\n",
    "    \n",
    "    f1=[]\n",
    "    recall=[]\n",
    "    \n",
    "    kf= KFold(n_splits=5)\n",
    "     \n",
    "    for train_idx,test_idx in kf.split(X_train,y_train):\n",
    "        \n",
    "        X_train_tuning,y_train_tuning= X_train.iloc[train_idx],y_train.iloc[train_idx]\n",
    "\n",
    "        X_test_tuning,y_test_tuning= X_train.iloc[test_idx],y_train.iloc[test_idx]\n",
    "        \n",
    "        model=XGBClassifier(**params,n_jobs=-1)\n",
    "        \n",
    "        model.fit(X_train_tuning,y_train_tuning)\n",
    "        \n",
    "        predictions=model.predict(X_test_tuning)\n",
    "        \n",
    "        f1.append(f1_score(y_test_tuning,predictions))\n",
    "        \n",
    "        #recall.append(recall_score(y_test_tuning,predictions))\n",
    "        \n",
    "    return np.mean(f1)"
   ]
  },
  {
   "cell_type": "markdown",
   "metadata": {},
   "source": [
    "# XGBoost model"
   ]
  },
  {
   "cell_type": "code",
   "execution_count": 12,
   "metadata": {},
   "outputs": [],
   "source": [
    "def create_xgb(X_train: pd.DataFrame, y_train: pd.DataFrame):\n",
    "    \n",
    "    study=optuna.create_study(direction='maximize')\n",
    "    study.optimize(lambda trial: objective(trial, X_train, y_train), n_trials=50)\n",
    "    \n",
    "    params=study.best_params\n",
    "    \n",
    "    model=XGBClassifier(**params,n_jobs=-1)\n",
    "    \n",
    "    model.fit(X_train, y_train, verbose=0)\n",
    "    \n",
    "    return model"
   ]
  },
  {
   "cell_type": "markdown",
   "metadata": {},
   "source": [
    "# EasyEnsemble algorithm"
   ]
  },
  {
   "cell_type": "code",
   "execution_count": 13,
   "metadata": {},
   "outputs": [],
   "source": [
    "def easyensemble(train: pd.DataFrame, features: list, n_estimators: int):\n",
    "    \n",
    "    X_train,y_train= train[features], train.target\n",
    "    \n",
    "    models=[]\n",
    "    \n",
    "    n_models=0\n",
    "    for estimator in range(1,n_estimators):\n",
    "        \n",
    "        undersampler= RandomUnderSampler(sampling_strategy=1,random_state=randint(0,100000))\n",
    "        \n",
    "        X_train_rus,y_train_rus= undersampler.fit_resample(X_train, y_train)\n",
    "        \n",
    "        models.append(create_xgb(X_train_rus,y_train_rus))\n",
    "        \n",
    "        n_models+=1\n",
    "        \n",
    "        print(n_models)\n",
    "        \n",
    "        \n",
    "\n",
    "        \n",
    "    return models   "
   ]
  },
  {
   "cell_type": "markdown",
   "metadata": {},
   "source": [
    "# Cross validation function"
   ]
  },
  {
   "cell_type": "code",
   "execution_count": 14,
   "metadata": {},
   "outputs": [],
   "source": [
    "def cross_val(df: pd.DataFrame, features: list,n_estimators: int):\n",
    "    \n",
    "    train=df[:200000]\n",
    "    test=df[200000:]\n",
    "    \n",
    "    models=easyensemble(train, features, n_estimators)\n",
    "    \n",
    "    X_test, y_test= test[features], test.target\n",
    "    \n",
    "    y_proba=0\n",
    "    \n",
    "    for model in models:\n",
    "        \n",
    "        y_proba+=model.predict_proba(X_test)[:,1]\n",
    "        \n",
    "    y_proba=y_proba/len(models)\n",
    "        \n",
    "    y_preds=(y_proba>0.5).astype(int)\n",
    "    \n",
    "    print('\\n')\n",
    "    print(recall_score(y_test,y_preds))\n",
    "    print('\\n')\n",
    "    print(confusion_matrix(y_test,y_preds))\n",
    "    \n",
    "    return y_proba,models"
   ]
  },
  {
   "cell_type": "code",
   "execution_count": 15,
   "metadata": {},
   "outputs": [
    {
     "name": "stdout",
     "output_type": "stream",
     "text": [
      "1\n",
      "2\n",
      "3\n",
      "4\n",
      "5\n",
      "6\n",
      "7\n",
      "8\n",
      "9\n",
      "\n",
      "\n",
      "0.8785046728971962\n",
      "\n",
      "\n",
      "[[82930  1770]\n",
      " [   13    94]]\n"
     ]
    }
   ],
   "source": [
    "y_proba, models=cross_val(df,features,10)"
   ]
  },
  {
   "cell_type": "code",
   "execution_count": null,
   "metadata": {},
   "outputs": [],
   "source": []
  }
 ],
 "metadata": {
  "kernelspec": {
   "display_name": "Python 3",
   "language": "python",
   "name": "python3"
  },
  "language_info": {
   "codemirror_mode": {
    "name": "ipython",
    "version": 3
   },
   "file_extension": ".py",
   "mimetype": "text/x-python",
   "name": "python",
   "nbconvert_exporter": "python",
   "pygments_lexer": "ipython3",
   "version": "3.7.6"
  }
 },
 "nbformat": 4,
 "nbformat_minor": 4
}
